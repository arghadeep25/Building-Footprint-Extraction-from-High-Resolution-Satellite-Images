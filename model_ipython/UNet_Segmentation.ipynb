{
  "nbformat": 4,
  "nbformat_minor": 0,
  "metadata": {
    "colab": {
      "name": "UNet Segmentation",
      "version": "0.3.2",
      "provenance": [],
      "collapsed_sections": []
    },
    "kernelspec": {
      "name": "python3",
      "display_name": "Python 3"
    },
    "accelerator": "GPU"
  },
  "cells": [
    {
      "cell_type": "markdown",
      "metadata": {
        "id": "XYozTQq4mpcM",
        "colab_type": "text"
      },
      "source": [
        "# **UNet Segmentation using Google Colaboratory**"
      ]
    },
    {
      "cell_type": "markdown",
      "metadata": {
        "id": "0bRaj90umttM",
        "colab_type": "text"
      },
      "source": [
        "Download the dataset from Kaggle or Github:\n",
        "\n",
        "      - To download from github use \"git clone https://github.com/panthole/data-science-bowl-2018.git\"\n",
        "      - Compress the data and put in a zip file \"zip -r data.zip [path]\"\n",
        "      - Upload the data into Google Colaboratory\n",
        "      - Unzip the file using \"!unzip data.zip\""
      ]
    },
    {
      "cell_type": "markdown",
      "metadata": {
        "id": "t8ARCWeOoC4M",
        "colab_type": "text"
      },
      "source": [
        "**1. Data Preparation**"
      ]
    },
    {
      "cell_type": "code",
      "metadata": {
        "id": "7XZf4DdC9kvC",
        "colab_type": "code",
        "colab": {}
      },
      "source": [
        "# !unzip data.zip"
      ],
      "execution_count": 0,
      "outputs": []
    },
    {
      "cell_type": "markdown",
      "metadata": {
        "id": "E2p2iC1Fn93r",
        "colab_type": "text"
      },
      "source": [
        "**2. Imports**"
      ]
    },
    {
      "cell_type": "code",
      "metadata": {
        "id": "ZetYSyoyAQlr",
        "colab_type": "code",
        "colab": {}
      },
      "source": [
        "import os\n",
        "import sys\n",
        "import random\n",
        "\n",
        "import numpy as np\n",
        "import cv2\n",
        "import matplotlib.pyplot as plt\n",
        "\n",
        "import tensorflow as tf\n",
        "from tensorflow import keras\n",
        "\n",
        "seed = 2019\n",
        "random.seed = seed\n",
        "np.random.seed = seed\n",
        "tf.seed = seed"
      ],
      "execution_count": 0,
      "outputs": []
    },
    {
      "cell_type": "markdown",
      "metadata": {
        "id": "iz2t45VroVNg",
        "colab_type": "text"
      },
      "source": [
        "**3. Data Generators**"
      ]
    },
    {
      "cell_type": "code",
      "metadata": {
        "id": "1VVT66hwBMp8",
        "colab_type": "code",
        "colab": {}
      },
      "source": [
        "# Data Generator\n",
        "\n",
        "class DataGen(keras.utils.Sequence):\n",
        "  def __init__(self, ids, path, batch_size = 8, image_size = 128):\n",
        "    self.ids = ids\n",
        "    self.path = path\n",
        "    self.batch_size = batch_size\n",
        "    self.image_size = image_size\n",
        "    self.on_epoch_end()\n",
        "    \n",
        "  def __load__(self, id_name):\n",
        "    image_path = os.path.join(self.path, id_name, \"images\", id_name) + \".png\"\n",
        "    mask_path = os.path.join(self.path, id_name, \"masks/\")\n",
        "    all_masks = os.listdir(mask_path)\n",
        "    \n",
        "    # Reading Image\n",
        "    image = cv2.imread(image_path, 1)\n",
        "    image = cv2.resize(image, (self.image_size, self.image_size))\n",
        "      \n",
        "    mask = np.zeros((self.image_size, self.image_size, 1))\n",
        "      \n",
        "    # Reading Mask\n",
        "    for name in all_masks:\n",
        "      _mask_path = mask_path + name\n",
        "      _mask_image = cv2.imread(_mask_path, -1)\n",
        "      _mask_image = cv2.resize(_mask_image, (self.image_size, self.image_size))\n",
        "      _mask_image = np.expand_dims(_mask_image, axis = -1)\n",
        "      mask = np.maximum(mask, _mask_image)\n",
        "      \n",
        "    image = image/255.\n",
        "    mask = mask/255.\n",
        "    \n",
        "    return image, mask\n",
        "  \n",
        "  def __getitem__(self, index):\n",
        "    if(index+1)*self.batch_size > len(self.ids):\n",
        "      self.batch_size = len(self.ids) - index*self.batch_size\n",
        "      \n",
        "    files_batch = self.ids[index*self.batch_size : (index + 1)* self.batch_size]\n",
        "    \n",
        "    image = []\n",
        "    mask = []\n",
        "    \n",
        "    for id_name in files_batch:\n",
        "      _img, _mask = self.__load__(id_name)\n",
        "      image.append(_img)\n",
        "      mask.append(_mask)\n",
        "      \n",
        "    image = np.array(image)\n",
        "    mask = np.array(mask)\n",
        "    \n",
        "    return image, mask\n",
        "  \n",
        "  def on_epoch_end(self):\n",
        "    pass\n",
        "  \n",
        "  def __len__(self):\n",
        "    return int(np.ceil(len(self.ids)/float(self.batch_size)))\n",
        "    "
      ],
      "execution_count": 0,
      "outputs": []
    },
    {
      "cell_type": "markdown",
      "metadata": {
        "id": "uC2FTNnZocbm",
        "colab_type": "text"
      },
      "source": [
        "**4. Hyperparamters**"
      ]
    },
    {
      "cell_type": "code",
      "metadata": {
        "id": "DZT0IWwACuxc",
        "colab_type": "code",
        "colab": {}
      },
      "source": [
        "## Hyperparameters\n",
        "\n",
        "image_size = 128\n",
        "train_path = \"data-science-bowl-2018/stage1_train/\"\n",
        "epochs = 10\n",
        "batch_size = 8\n",
        "\n",
        "# Train Ids\n",
        "train_ids = next(os.walk(train_path))[1]\n",
        "\n",
        "# Validation Data Size\n",
        "val_data_size = 10\n",
        "\n",
        "valid_ids = train_ids[:val_data_size]\n",
        "train_ids = train_ids[val_data_size:]\n"
      ],
      "execution_count": 0,
      "outputs": []
    },
    {
      "cell_type": "code",
      "metadata": {
        "id": "tqJRgeRgGteO",
        "colab_type": "code",
        "colab": {
          "base_uri": "https://localhost:8080/",
          "height": 35
        },
        "outputId": "64aa5971-cb50-4414-e212-f6c159fc2d75"
      },
      "source": [
        "gen = DataGen(train_ids, train_path, batch_size = batch_size, image_size = image_size)\n",
        "x, y = gen.__getitem__(0)\n",
        "print(x.shape, y.shape)"
      ],
      "execution_count": 74,
      "outputs": [
        {
          "output_type": "stream",
          "text": [
            "(8, 128, 128, 3) (8, 128, 128, 1)\n"
          ],
          "name": "stdout"
        }
      ]
    },
    {
      "cell_type": "code",
      "metadata": {
        "id": "EYeo7QAIMxCl",
        "colab_type": "code",
        "colab": {
          "base_uri": "https://localhost:8080/",
          "height": 209
        },
        "outputId": "0be64f40-c7af-4c0c-a6c3-55a5c0c8e112"
      },
      "source": [
        "r = random.randint(0, len(x) - 1)\n",
        "\n",
        "fig = plt.figure()\n",
        "fig.subplots_adjust(hspace = 0.4, wspace = 0.4)\n",
        "ax = fig.add_subplot(1, 2, 1)\n",
        "ax.imshow(x[r])\n",
        "ax = fig.add_subplot(1,2,2)\n",
        "ax.imshow(np.reshape(y[r], (image_size, image_size)), cmap = 'gray')"
      ],
      "execution_count": 75,
      "outputs": [
        {
          "output_type": "execute_result",
          "data": {
            "text/plain": [
              "<matplotlib.image.AxesImage at 0x7f8980f24320>"
            ]
          },
          "metadata": {
            "tags": []
          },
          "execution_count": 75
        },
        {
          "output_type": "display_data",
          "data": {
            "image/png": "[encoded data removed]",
            "text/plain": [
              "<Figure size 432x288 with 2 Axes>"
            ]
          },
          "metadata": {
            "tags": []
          }
        }
      ]
    },
    {
      "cell_type": "markdown",
      "metadata": {
        "id": "uxrN8-yrokfB",
        "colab_type": "text"
      },
      "source": [
        "**5. Convolutional Blocks**"
      ]
    },
    {
      "cell_type": "code",
      "metadata": {
        "id": "N5EJdWIjNHp1",
        "colab_type": "code",
        "colab": {}
      },
      "source": [
        "def down_block(x, filters, kernel_size = (3,3), padding = 'same', strides =1):\n",
        "  c = keras.layers.Conv2D(filters, kernel_size, padding = padding, strides = strides, activation = 'relu')(x)\n",
        "  c = keras.layers.Conv2D(filters, kernel_size, padding = padding, strides = strides, activation = 'relu')(c)\n",
        "  p = keras.layers.MaxPool2D((2,2),(2,2))(c)\n",
        "  return c, p\n",
        "\n",
        "def up_block(x, skip, filters, kernel_size = (3,3), padding = 'same', strides = 1):\n",
        "  us = keras.layers.UpSampling2D((2,2))(x)\n",
        "  concat = keras.layers.Concatenate()([us, skip])\n",
        "  c = keras.layers.Conv2D(filters, kernel_size, padding = padding, strides = strides, activation = 'relu')(concat)\n",
        "  c = keras.layers.Conv2D(filters, kernel_size, padding = padding, strides = strides, activation = 'relu')(c)\n",
        "  return c\n",
        "\n",
        "def bottleneck(x, filters, kernel_size = (3,3), padding = 'same', strides = 1):\n",
        "  c = keras.layers.Conv2D(filters, kernel_size, padding = padding, strides = strides, activation = 'relu')(x)\n",
        "  c = keras.layers.Conv2D(filters, kernel_size, padding = padding, strides = strides, activation = 'relu')(c)\n",
        "  return c"
      ],
      "execution_count": 0,
      "outputs": []
    },
    {
      "cell_type": "markdown",
      "metadata": {
        "id": "WWPS0KFaopLd",
        "colab_type": "text"
      },
      "source": [
        "**6. UNet Model**"
      ]
    },
    {
      "cell_type": "code",
      "metadata": {
        "id": "50o9nZIjNZUD",
        "colab_type": "code",
        "colab": {}
      },
      "source": [
        "# UNet Model\n",
        "def UNet():\n",
        "  f = [16, 32, 64, 128, 256]\n",
        "  inputs = keras.layers.Input((image_size, image_size, 3))\n",
        "  \n",
        "  p0 = inputs\n",
        "  c1, p1 = down_block(p0, f[0])\n",
        "  c2, p2 = down_block(p1, f[1])\n",
        "  c3, p3 = down_block(p2, f[2])\n",
        "  c4, p4 = down_block(p3, f[3])\n",
        "  \n",
        "  bn = bottleneck(p4, f[4])\n",
        "  \n",
        "  u1 = up_block(bn, c4, f[3])\n",
        "  u2 = up_block(u1, c3, f[2])\n",
        "  u3 = up_block(u2, c2, f[1])\n",
        "  u4 = up_block(u3, c1, f[0])\n",
        "  \n",
        "  outputs = keras.layers.Conv2D(1, (1,1), padding = 'same', activation = 'sigmoid')(u4)\n",
        "  model = keras.models.Model(inputs, outputs)\n",
        "  return model"
      ],
      "execution_count": 0,
      "outputs": []
    },
    {
      "cell_type": "code",
      "metadata": {
        "id": "8m2UGgkvQ1vs",
        "colab_type": "code",
        "colab": {
          "base_uri": "https://localhost:8080/",
          "height": 1367
        },
        "outputId": "48070ed5-96eb-46dc-d58a-491724289995"
      },
      "source": [
        "model = UNet()\n",
        "model.compile(optimizer = 'adam', loss = 'binary_crossentropy', metrics = ['acc'])\n",
        "model.summary()"
      ],
      "execution_count": 78,
      "outputs": [
        {
          "output_type": "stream",
          "text": [
            "__________________________________________________________________________________________________\n",
            "Layer (type)                    Output Shape         Param #     Connected to                     \n",
            "==================================================================================================\n",
            "input_7 (InputLayer)            (None, 128, 128, 3)  0                                            \n",
            "__________________________________________________________________________________________________\n",
            "conv2d_96 (Conv2D)              (None, 128, 128, 16) 448         input_7[0][0]                    \n",
            "__________________________________________________________________________________________________\n",
            "conv2d_97 (Conv2D)              (None, 128, 128, 16) 2320        conv2d_96[0][0]                  \n",
            "__________________________________________________________________________________________________\n",
            "max_pooling2d_24 (MaxPooling2D) (None, 64, 64, 16)   0           conv2d_97[0][0]                  \n",
            "__________________________________________________________________________________________________\n",
            "conv2d_98 (Conv2D)              (None, 64, 64, 32)   4640        max_pooling2d_24[0][0]           \n",
            "__________________________________________________________________________________________________\n",
            "conv2d_99 (Conv2D)              (None, 64, 64, 32)   9248        conv2d_98[0][0]                  \n",
            "__________________________________________________________________________________________________\n",
            "max_pooling2d_25 (MaxPooling2D) (None, 32, 32, 32)   0           conv2d_99[0][0]                  \n",
            "__________________________________________________________________________________________________\n",
            "conv2d_100 (Conv2D)             (None, 32, 32, 64)   18496       max_pooling2d_25[0][0]           \n",
            "__________________________________________________________________________________________________\n",
            "conv2d_101 (Conv2D)             (None, 32, 32, 64)   36928       conv2d_100[0][0]                 \n",
            "__________________________________________________________________________________________________\n",
            "max_pooling2d_26 (MaxPooling2D) (None, 16, 16, 64)   0           conv2d_101[0][0]                 \n",
            "__________________________________________________________________________________________________\n",
            "conv2d_102 (Conv2D)             (None, 16, 16, 128)  73856       max_pooling2d_26[0][0]           \n",
            "__________________________________________________________________________________________________\n",
            "conv2d_103 (Conv2D)             (None, 16, 16, 128)  147584      conv2d_102[0][0]                 \n",
            "__________________________________________________________________________________________________\n",
            "max_pooling2d_27 (MaxPooling2D) (None, 8, 8, 128)    0           conv2d_103[0][0]                 \n",
            "__________________________________________________________________________________________________\n",
            "conv2d_104 (Conv2D)             (None, 8, 8, 256)    295168      max_pooling2d_27[0][0]           \n",
            "__________________________________________________________________________________________________\n",
            "conv2d_105 (Conv2D)             (None, 8, 8, 256)    590080      conv2d_104[0][0]                 \n",
            "__________________________________________________________________________________________________\n",
            "up_sampling2d_16 (UpSampling2D) (None, 16, 16, 256)  0           conv2d_105[0][0]                 \n",
            "__________________________________________________________________________________________________\n",
            "concatenate_18 (Concatenate)    (None, 16, 16, 384)  0           up_sampling2d_16[0][0]           \n",
            "                                                                 conv2d_103[0][0]                 \n",
            "__________________________________________________________________________________________________\n",
            "conv2d_106 (Conv2D)             (None, 16, 16, 128)  442496      concatenate_18[0][0]             \n",
            "__________________________________________________________________________________________________\n",
            "conv2d_107 (Conv2D)             (None, 16, 16, 128)  147584      conv2d_106[0][0]                 \n",
            "__________________________________________________________________________________________________\n",
            "up_sampling2d_17 (UpSampling2D) (None, 32, 32, 128)  0           conv2d_107[0][0]                 \n",
            "__________________________________________________________________________________________________\n",
            "concatenate_19 (Concatenate)    (None, 32, 32, 192)  0           up_sampling2d_17[0][0]           \n",
            "                                                                 conv2d_101[0][0]                 \n",
            "__________________________________________________________________________________________________\n",
            "conv2d_108 (Conv2D)             (None, 32, 32, 64)   110656      concatenate_19[0][0]             \n",
            "__________________________________________________________________________________________________\n",
            "conv2d_109 (Conv2D)             (None, 32, 32, 64)   36928       conv2d_108[0][0]                 \n",
            "__________________________________________________________________________________________________\n",
            "up_sampling2d_18 (UpSampling2D) (None, 64, 64, 64)   0           conv2d_109[0][0]                 \n",
            "__________________________________________________________________________________________________\n",
            "concatenate_20 (Concatenate)    (None, 64, 64, 96)   0           up_sampling2d_18[0][0]           \n",
            "                                                                 conv2d_99[0][0]                  \n",
            "__________________________________________________________________________________________________\n",
            "conv2d_110 (Conv2D)             (None, 64, 64, 32)   27680       concatenate_20[0][0]             \n",
            "__________________________________________________________________________________________________\n",
            "conv2d_111 (Conv2D)             (None, 64, 64, 32)   9248        conv2d_110[0][0]                 \n",
            "__________________________________________________________________________________________________\n",
            "up_sampling2d_19 (UpSampling2D) (None, 128, 128, 32) 0           conv2d_111[0][0]                 \n",
            "__________________________________________________________________________________________________\n",
            "concatenate_21 (Concatenate)    (None, 128, 128, 48) 0           up_sampling2d_19[0][0]           \n",
            "                                                                 conv2d_97[0][0]                  \n",
            "__________________________________________________________________________________________________\n",
            "conv2d_112 (Conv2D)             (None, 128, 128, 16) 6928        concatenate_21[0][0]             \n",
            "__________________________________________________________________________________________________\n",
            "conv2d_113 (Conv2D)             (None, 128, 128, 16) 2320        conv2d_112[0][0]                 \n",
            "__________________________________________________________________________________________________\n",
            "conv2d_114 (Conv2D)             (None, 128, 128, 1)  17          conv2d_113[0][0]                 \n",
            "==================================================================================================\n",
            "Total params: 1,962,625\n",
            "Trainable params: 1,962,625\n",
            "Non-trainable params: 0\n",
            "__________________________________________________________________________________________________\n"
          ],
          "name": "stdout"
        }
      ]
    },
    {
      "cell_type": "markdown",
      "metadata": {
        "id": "A6geMw07ovuY",
        "colab_type": "text"
      },
      "source": [
        "**7. Training the UNet  Model**"
      ]
    },
    {
      "cell_type": "code",
      "metadata": {
        "id": "JELT0i2QRC_Y",
        "colab_type": "code",
        "colab": {
          "base_uri": "https://localhost:8080/",
          "height": 575
        },
        "outputId": "966652c8-964d-477a-d088-da59c1102ffd"
      },
      "source": [
        "# Training the model\n",
        "\n",
        "train_gen = DataGen(train_ids, train_path, image_size = image_size, batch_size = batch_size)\n",
        "valid_gen = DataGen(valid_ids, train_path, image_size = image_size, batch_size = batch_size)\n",
        "\n",
        "train_steps = len(train_ids)// batch_size\n",
        "valid_steps = len(valid_ids)// batch_size\n",
        "\n",
        "model.fit_generator(train_gen, validation_data = valid_gen, steps_per_epoch = train_steps, validation_steps = valid_steps, epochs = epochs)"
      ],
      "execution_count": 79,
      "outputs": [
        {
          "output_type": "stream",
          "text": [
            "Epoch 1/10\n",
            "2/2 [==============================] - 1s 306ms/step - loss: 1.8103 - acc: 0.8744\n",
            "83/83 [==============================] - 19s 233ms/step - loss: 2.0516 - acc: 0.8217 - val_loss: 1.8103 - val_acc: 0.8744\n",
            "Epoch 2/10\n",
            "5/5 [==============================] - 0s 83ms/step - loss: 0.4507 - acc: 0.8810\n",
            "83/83 [==============================] - 18s 212ms/step - loss: 1.0354 - acc: 0.8531 - val_loss: 0.4507 - val_acc: 0.8810\n",
            "Epoch 3/10\n",
            "5/5 [==============================] - 0s 77ms/step - loss: 0.2691 - acc: 0.9292\n",
            "83/83 [==============================] - 18s 212ms/step - loss: 0.7186 - acc: 0.9142 - val_loss: 0.2691 - val_acc: 0.9292\n",
            "Epoch 4/10\n",
            "5/5 [==============================] - 0s 80ms/step - loss: 0.2291 - acc: 0.9374\n",
            "83/83 [==============================] - 18s 214ms/step - loss: 0.5323 - acc: 0.9321 - val_loss: 0.2291 - val_acc: 0.9374\n",
            "Epoch 5/10\n",
            "5/5 [==============================] - 0s 89ms/step - loss: 0.2234 - acc: 0.9387\n",
            "83/83 [==============================] - 18s 216ms/step - loss: 0.4635 - acc: 0.9388 - val_loss: 0.2234 - val_acc: 0.9387\n",
            "Epoch 6/10\n",
            "5/5 [==============================] - 0s 79ms/step - loss: 0.2050 - acc: 0.9429\n",
            "83/83 [==============================] - 18s 214ms/step - loss: 0.4618 - acc: 0.9393 - val_loss: 0.2050 - val_acc: 0.9429\n",
            "Epoch 7/10\n",
            "5/5 [==============================] - 0s 78ms/step - loss: 0.2078 - acc: 0.9399\n",
            "83/83 [==============================] - 18s 217ms/step - loss: 0.4542 - acc: 0.9400 - val_loss: 0.2078 - val_acc: 0.9399\n",
            "Epoch 8/10\n",
            "5/5 [==============================] - 0s 81ms/step - loss: 0.2171 - acc: 0.9455\n",
            "83/83 [==============================] - 18s 214ms/step - loss: 0.3784 - acc: 0.9474 - val_loss: 0.2171 - val_acc: 0.9455\n",
            "Epoch 9/10\n",
            "5/5 [==============================] - 0s 84ms/step - loss: 0.1871 - acc: 0.9453\n",
            "83/83 [==============================] - 18s 220ms/step - loss: 0.3714 - acc: 0.9480 - val_loss: 0.1871 - val_acc: 0.9453\n",
            "Epoch 10/10\n",
            "5/5 [==============================] - 0s 77ms/step - loss: 0.1838 - acc: 0.9476\n",
            "83/83 [==============================] - 18s 216ms/step - loss: 0.3540 - acc: 0.9496 - val_loss: 0.1838 - val_acc: 0.9476\n"
          ],
          "name": "stdout"
        },
        {
          "output_type": "execute_result",
          "data": {
            "text/plain": [
              "<tensorflow.python.keras.callbacks.History at 0x7f8976c3eb00>"
            ]
          },
          "metadata": {
            "tags": []
          },
          "execution_count": 79
        }
      ]
    },
    {
      "cell_type": "markdown",
      "metadata": {
        "id": "UENkJVXhouY0",
        "colab_type": "text"
      },
      "source": [
        "**8. Testing the UNet Model**"
      ]
    },
    {
      "cell_type": "code",
      "metadata": {
        "id": "M7eCCToSSLv_",
        "colab_type": "code",
        "colab": {}
      },
      "source": [
        "# Testing Model\n",
        "model.save_weights('UNetW.h5')\n",
        "\n",
        "# Prediction Dataset\n",
        "x, y = valid_gen.__getitem__(1)\n",
        "result = model.predict(x)\n",
        "\n",
        "result = result > 0.5"
      ],
      "execution_count": 0,
      "outputs": []
    },
    {
      "cell_type": "markdown",
      "metadata": {
        "id": "swVIDnGeo1Qb",
        "colab_type": "text"
      },
      "source": [
        "**Visualizing the Results**"
      ]
    },
    {
      "cell_type": "code",
      "metadata": {
        "id": "4jrE4kSYTtpj",
        "colab_type": "code",
        "colab": {
          "base_uri": "https://localhost:8080/",
          "height": 209
        },
        "outputId": "da7ab5d9-8a0a-40c1-85e6-eb154e421f8a"
      },
      "source": [
        "fig = plt.figure()\n",
        "fig.subplots_adjust(hspace=0.4, wspace = 0.4)\n",
        "\n",
        "ax = fig.add_subplot(1,2,1)\n",
        "ax.imshow(np.reshape(y[0]*255, (image_size, image_size)), cmap='gray')\n",
        "\n",
        "ax = fig.add_subplot(1,2,2)\n",
        "ax.imshow(np.reshape(result[0]*255,(image_size, image_size)), cmap = 'gray')"
      ],
      "execution_count": 81,
      "outputs": [
        {
          "output_type": "execute_result",
          "data": {
            "text/plain": [
              "<matplotlib.image.AxesImage at 0x7f8975a472e8>"
            ]
          },
          "metadata": {
            "tags": []
          },
          "execution_count": 81
        },
        {
          "output_type": "display_data",
          "data": {
            "image/png": "[encoded data removed]",
            "text/plain": [
              "<Figure size 432x288 with 2 Axes>"
            ]
          },
          "metadata": {
            "tags": []
          }
        }
      ]
    },
    {
      "cell_type": "code",
      "metadata": {
        "id": "ypx0JipsUTrI",
        "colab_type": "code",
        "colab": {
          "base_uri": "https://localhost:8080/",
          "height": 209
        },
        "outputId": "075b76c8-270b-4877-bf89-c4e0f4a42ba6"
      },
      "source": [
        "fig = plt.figure()\n",
        "fig.subplots_adjust(hspace=0.4, wspace=0.4)\n",
        "\n",
        "ax = fig.add_subplot(1,2,1)\n",
        "ax.imshow(np.reshape(y[1]*255, (image_size, image_size)), cmap = 'gray')\n",
        "\n",
        "ax = fig.add_subplot(1, 2, 2)\n",
        "ax.imshow(np.reshape(result[1]*255, (image_size, image_size)), cmap = 'gray')"
      ],
      "execution_count": 82,
      "outputs": [
        {
          "output_type": "execute_result",
          "data": {
            "text/plain": [
              "<matplotlib.image.AxesImage at 0x7f8982836e80>"
            ]
          },
          "metadata": {
            "tags": []
          },
          "execution_count": 82
        },
        {
          "output_type": "display_data",
          "data": {
            "image/png": "[encoded data removed]",
            "text/plain": [
              "<Figure size 432x288 with 2 Axes>"
            ]
          },
          "metadata": {
            "tags": []
          }
        }
      ]
    },
    {
      "cell_type": "code",
      "metadata": {
        "id": "1pTSRoWEVCTA",
        "colab_type": "code",
        "colab": {}
      },
      "source": [
        ""
      ],
      "execution_count": 0,
      "outputs": []
    },
    {
      "cell_type": "code",
      "metadata": {
        "id": "Fyt_rveoggpP",
        "colab_type": "code",
        "colab": {}
      },
      "source": [
        ""
      ],
      "execution_count": 0,
      "outputs": []
    }
  ]
}